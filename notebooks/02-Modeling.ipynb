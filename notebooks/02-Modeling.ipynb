{
 "cells": [
  {
   "cell_type": "markdown",
   "metadata": {},
   "source": []
  },
  {
   "cell_type": "code",
   "execution_count": 1,
   "metadata": {},
   "outputs": [
    {
     "name": "stderr",
     "output_type": "stream",
     "text": [
      "[nltk_data] Downloading package wordnet to\n",
      "[nltk_data]     C:\\Users\\Hp\\AppData\\Roaming\\nltk_data...\n",
      "[nltk_data]   Package wordnet is already up-to-date!\n",
      "[nltk_data] Downloading package punkt to\n",
      "[nltk_data]     C:\\Users\\Hp\\AppData\\Roaming\\nltk_data...\n",
      "[nltk_data]   Package punkt is already up-to-date!\n",
      "[nltk_data] Downloading package stopwords to\n",
      "[nltk_data]     C:\\Users\\Hp\\AppData\\Roaming\\nltk_data...\n",
      "[nltk_data]   Package stopwords is already up-to-date!\n",
      "[nltk_data] Downloading package wordnet to\n",
      "[nltk_data]     C:\\Users\\Hp\\AppData\\Roaming\\nltk_data...\n",
      "[nltk_data]   Package wordnet is already up-to-date!\n"
     ]
    }
   ],
   "source": [
    "# Data Manipulation\n",
    "import numpy as np\n",
    "import pandas as pd\n",
    "\n",
    "# Visualization \n",
    "import matplotlib.pyplot as plt\n",
    "import seaborn as sns \n",
    "from wordcloud import WordCloud\n",
    "\n",
    "# Text Processing \n",
    "import re \n",
    "import string \n",
    "import nltk\n",
    "from nltk.corpus import stopwords\n",
    "from nltk.tokenize import word_tokenize\n",
    "from nltk.stem import WordNetLemmatizer\n",
    "\n",
    "# NLP Utilities \n",
    "# Download the WordNet resource\n",
    "nltk.download('wordnet')\n",
    "nltk.download('punkt')\n",
    "nltk.download('stopwords')\n",
    "nltk.download('wordnet')\n",
    "\n",
    "# Model Persistence \n",
    "import joblib\n",
    "\n",
    "# Machine Learning\n",
    "from sklearn import metrics\n",
    "from sklearn.preprocessing import LabelEncoder\n",
    "from sklearn.model_selection import GridSearchCV\n",
    "from sklearn.model_selection import RandomizedSearchCV\n",
    "from sklearn.feature_extraction.text import TfidfVectorizer\n",
    "from sklearn.ensemble import RandomForestClassifier\n",
    "from sklearn.metrics import accuracy_score\n",
    "from sklearn.model_selection import train_test_split\n",
    "from sklearn.metrics import confusion_matrix, classification_report, f1_score\n",
    "from sklearn.feature_extraction.text import CountVectorizer\n",
    "from transformers import BertTokenizer, BertForSequenceClassification, Trainer, TrainingArguments\n",
    "import torch\n",
    "from torch.utils.data import DataLoader, TensorDataset"
   ]
  },
  {
   "cell_type": "code",
   "execution_count": 2,
   "metadata": {},
   "outputs": [],
   "source": [
    "# Find Main Working Directory\n",
    "import sys\n",
    "import os\n",
    "sys.path.append(os.path.join(os.path.abspath('..')))"
   ]
  },
  {
   "cell_type": "code",
   "execution_count": 3,
   "metadata": {},
   "outputs": [],
   "source": [
    "df = pd.read_csv('../data/preprocessed/preprocessed_data.csv')"
   ]
  },
  {
   "cell_type": "code",
   "execution_count": 4,
   "metadata": {},
   "outputs": [
    {
     "data": {
      "text/html": [
       "<div>\n",
       "<style scoped>\n",
       "    .dataframe tbody tr th:only-of-type {\n",
       "        vertical-align: middle;\n",
       "    }\n",
       "\n",
       "    .dataframe tbody tr th {\n",
       "        vertical-align: top;\n",
       "    }\n",
       "\n",
       "    .dataframe thead th {\n",
       "        text-align: right;\n",
       "    }\n",
       "</style>\n",
       "<table border=\"1\" class=\"dataframe\">\n",
       "  <thead>\n",
       "    <tr style=\"text-align: right;\">\n",
       "      <th></th>\n",
       "      <th>Branch</th>\n",
       "      <th>Sentiment</th>\n",
       "      <th>Tweet</th>\n",
       "    </tr>\n",
       "  </thead>\n",
       "  <tbody>\n",
       "    <tr>\n",
       "      <th>21208</th>\n",
       "      <td>CS-GO</td>\n",
       "      <td>Positive</td>\n",
       "      <td>['seeing', 'shroud', 'come', 'back', 'us', 're...</td>\n",
       "    </tr>\n",
       "    <tr>\n",
       "      <th>20743</th>\n",
       "      <td>CS-GO</td>\n",
       "      <td>Positive</td>\n",
       "      <td>['csgo', 'always', 'looked', 'really', 'fun', ...</td>\n",
       "    </tr>\n",
       "    <tr>\n",
       "      <th>57270</th>\n",
       "      <td>Facebook</td>\n",
       "      <td>Negative</td>\n",
       "      <td>['blatant', 'bias', 'social', 'media', 'giants...</td>\n",
       "    </tr>\n",
       "  </tbody>\n",
       "</table>\n",
       "</div>"
      ],
      "text/plain": [
       "         Branch Sentiment                                              Tweet\n",
       "21208     CS-GO  Positive  ['seeing', 'shroud', 'come', 'back', 'us', 're...\n",
       "20743     CS-GO  Positive  ['csgo', 'always', 'looked', 'really', 'fun', ...\n",
       "57270  Facebook  Negative  ['blatant', 'bias', 'social', 'media', 'giants..."
      ]
     },
     "execution_count": 4,
     "metadata": {},
     "output_type": "execute_result"
    }
   ],
   "source": [
    "df.sample(3)"
   ]
  },
  {
   "cell_type": "markdown",
   "metadata": {},
   "source": [
    "#### Handling missing values "
   ]
  },
  {
   "cell_type": "code",
   "execution_count": 5,
   "metadata": {},
   "outputs": [
    {
     "data": {
      "text/plain": [
       "Branch       0\n",
       "Sentiment    0\n",
       "Tweet        0\n",
       "dtype: int64"
      ]
     },
     "execution_count": 5,
     "metadata": {},
     "output_type": "execute_result"
    }
   ],
   "source": [
    "df.isnull().sum()"
   ]
  },
  {
   "cell_type": "code",
   "execution_count": 6,
   "metadata": {},
   "outputs": [],
   "source": [
    "# Drop missing values\n",
    "df = df.dropna()"
   ]
  },
  {
   "cell_type": "code",
   "execution_count": 7,
   "metadata": {},
   "outputs": [
    {
     "name": "stdout",
     "output_type": "stream",
     "text": [
      "Branch       0\n",
      "Sentiment    0\n",
      "Tweet        0\n",
      "dtype: int64\n"
     ]
    }
   ],
   "source": [
    "# Check missing values \n",
    "print(df.isnull().sum())"
   ]
  },
  {
   "cell_type": "code",
   "execution_count": 8,
   "metadata": {},
   "outputs": [
    {
     "name": "stdout",
     "output_type": "stream",
     "text": [
      "Number of duplicate rows: 8528\n"
     ]
    }
   ],
   "source": [
    "# Check duplicates\n",
    "duplicate_count = df.duplicated().sum()\n",
    "print(f\"Number of duplicate rows: {duplicate_count}\")\n"
   ]
  },
  {
   "cell_type": "code",
   "execution_count": 9,
   "metadata": {},
   "outputs": [
    {
     "name": "stdout",
     "output_type": "stream",
     "text": [
      "Remaining rows after dropping duplicates: 62429\n"
     ]
    }
   ],
   "source": [
    "df = df.drop_duplicates()\n",
    "print(f\"Remaining rows after dropping duplicates: {df.shape[0]}\")"
   ]
  },
  {
   "cell_type": "code",
   "execution_count": 10,
   "metadata": {},
   "outputs": [
    {
     "name": "stdout",
     "output_type": "stream",
     "text": [
      "Number of duplicate rows after cleanup: 0\n"
     ]
    }
   ],
   "source": [
    "duplicate_count_after = df.duplicated().sum()\n",
    "print(f\"Number of duplicate rows after cleanup: {duplicate_count_after}\")"
   ]
  },
  {
   "cell_type": "markdown",
   "metadata": {},
   "source": [
    "### 1.1 Train Split Data "
   ]
  },
  {
   "cell_type": "code",
   "execution_count": 41,
   "metadata": {},
   "outputs": [],
   "source": [
    "# Split data into training and testing sets\n",
    "X = df['Tweet'] # Features \n",
    "y = df['Sentiment'] # Target"
   ]
  },
  {
   "cell_type": "code",
   "execution_count": 42,
   "metadata": {},
   "outputs": [],
   "source": [
    "# encoder = LabelEncoder()\n",
    "# y = encoder.fit_transform(y)"
   ]
  },
  {
   "cell_type": "code",
   "execution_count": 43,
   "metadata": {},
   "outputs": [
    {
     "name": "stdout",
     "output_type": "stream",
     "text": [
      "Training data shape:  (49943,)\n",
      "Testing data shape:  (12486,)\n",
      "Training labels shape:  (49943,)\n",
      "Testing labels shape:  (12486,)\n"
     ]
    }
   ],
   "source": [
    "X_train, X_test, y_train, y_test = train_test_split(X, y, test_size=0.2, random_state=42)\n",
    "\n",
    "# Print the shaped of the training and testing data\n",
    "print(\"Training data shape: \", X_train.shape)\n",
    "print(\"Testing data shape: \", X_test.shape)\n",
    "print(\"Training labels shape: \", y_train.shape)\n",
    "print(\"Testing labels shape: \", y_test.shape)"
   ]
  },
  {
   "cell_type": "markdown",
   "metadata": {},
   "source": [
    "### Vectorize data"
   ]
  },
  {
   "cell_type": "code",
   "execution_count": 44,
   "metadata": {},
   "outputs": [
    {
     "name": "stdout",
     "output_type": "stream",
     "text": [
      "BoW Training data shape:  (49943, 34399)\n",
      "BoW Testing data shape:  (12486, 34399)\n"
     ]
    }
   ],
   "source": [
    "# Applying BoW\n",
    "cv = CountVectorizer()\n",
    "X_train_bow = cv.fit_transform(X_train)\n",
    "X_test_bow = cv.transform(X_test)\n",
    "\n",
    "print(\"BoW Training data shape: \", X_train_bow.shape)\n",
    "print(\"BoW Testing data shape: \", X_test_bow.shape)"
   ]
  },
  {
   "cell_type": "code",
   "execution_count": 45,
   "metadata": {},
   "outputs": [
    {
     "name": "stdout",
     "output_type": "stream",
     "text": [
      "BoW Training data shape:  (49943, 34399)\n",
      "BoW Testing data shape:  (12486, 34399)\n"
     ]
    }
   ],
   "source": [
    "# Convert test data to TF-IDF features\n",
    "vectorizer = TfidfVectorizer()\n",
    "X_train_tfidf = vectorizer.fit_transform(X_train)\n",
    "X_test_tfidf = vectorizer.transform(X_test)\n",
    "\n",
    "print(\"BoW Training data shape: \", X_train_tfidf.shape)\n",
    "print(\"BoW Testing data shape: \", X_test_tfidf.shape)"
   ]
  },
  {
   "cell_type": "code",
   "execution_count": 46,
   "metadata": {},
   "outputs": [
    {
     "name": "stdout",
     "output_type": "stream",
     "text": [
      "Training TF-IDF shape:  (49943, 34399)\n",
      "Testing TF-IDF shape:  (12486, 34399)\n"
     ]
    }
   ],
   "source": [
    "# Print the shapes of the TF-IDF features\n",
    "print(\"Training TF-IDF shape: \", X_train_tfidf.shape)\n",
    "print(\"Testing TF-IDF shape: \", X_test_tfidf.shape)"
   ]
  },
  {
   "cell_type": "code",
   "execution_count": 47,
   "metadata": {},
   "outputs": [],
   "source": [
    "model = RandomForestClassifier(random_state=42)\n",
    "model.fit(X_train_bow, y_train)\n",
    "\n",
    "# Evaluate the model's performance\n",
    "y_pred = model.predict(X_test_bow)"
   ]
  },
  {
   "cell_type": "code",
   "execution_count": 48,
   "metadata": {},
   "outputs": [],
   "source": [
    "model = RandomForestClassifier(random_state=42)\n",
    "model.fit(X_train_tfidf, y_train)\n",
    "\n",
    "# Evaluate the model's performance\n",
    "y_pred_tfidf = model.predict(X_test_tfidf)"
   ]
  },
  {
   "cell_type": "code",
   "execution_count": 49,
   "metadata": {},
   "outputs": [
    {
     "name": "stdout",
     "output_type": "stream",
     "text": [
      "Test Accuracy: 0.8913983661701105\n"
     ]
    }
   ],
   "source": [
    "# Calculate accuracy\n",
    "accuracy = accuracy_score(y_test, y_pred)\n",
    "print(\"Test Accuracy:\", accuracy)"
   ]
  },
  {
   "cell_type": "code",
   "execution_count": 50,
   "metadata": {},
   "outputs": [
    {
     "name": "stdout",
     "output_type": "stream",
     "text": [
      "Test Accuracy: 0.9010091302258529\n"
     ]
    }
   ],
   "source": [
    "# Calculate accuracy\n",
    "accuracy = accuracy_score(y_test, y_pred_tfidf)\n",
    "print(\"Test Accuracy:\", accuracy)"
   ]
  },
  {
   "cell_type": "code",
   "execution_count": 51,
   "metadata": {},
   "outputs": [
    {
     "name": "stdout",
     "output_type": "stream",
     "text": [
      "              precision    recall  f1-score   support\n",
      "\n",
      "  Irrelevant       0.82      0.95      0.88      1906\n",
      "    Negative       0.94      0.87      0.90      4070\n",
      "     Neutral       0.86      0.92      0.89      2943\n",
      "    Positive       0.92      0.86      0.89      3567\n",
      "\n",
      "    accuracy                           0.89     12486\n",
      "   macro avg       0.88      0.90      0.89     12486\n",
      "weighted avg       0.90      0.89      0.89     12486\n",
      "\n"
     ]
    }
   ],
   "source": [
    "print(metrics.classification_report(y_pred, y_test))"
   ]
  },
  {
   "cell_type": "code",
   "execution_count": 52,
   "metadata": {},
   "outputs": [
    {
     "name": "stdout",
     "output_type": "stream",
     "text": [
      "              precision    recall  f1-score   support\n",
      "\n",
      "  Irrelevant       0.84      0.95      0.89      1962\n",
      "    Negative       0.94      0.89      0.91      4002\n",
      "     Neutral       0.88      0.91      0.90      3030\n",
      "    Positive       0.91      0.88      0.90      3492\n",
      "\n",
      "    accuracy                           0.90     12486\n",
      "   macro avg       0.89      0.91      0.90     12486\n",
      "weighted avg       0.90      0.90      0.90     12486\n",
      "\n"
     ]
    }
   ],
   "source": [
    "print(metrics.classification_report(y_pred_tfidf, y_test))"
   ]
  },
  {
   "cell_type": "code",
   "execution_count": 53,
   "metadata": {},
   "outputs": [
    {
     "name": "stdout",
     "output_type": "stream",
     "text": [
      "Accuracy: 0.8913983661701105\n",
      "F1 Macro: 0.8895484138658158\n",
      "F1 Weighted: 0.89109289912725\n"
     ]
    }
   ],
   "source": [
    "# Evaluate the model's performance using a more comprehensive metric\n",
    "accuracy = accuracy_score(y_test, y_pred)\n",
    "f1_macro = f1_score(y_test, y_pred, average='macro')\n",
    "f1_weighted = f1_score(y_test, y_pred, average='weighted')\n",
    "\n",
    "print(\"Accuracy:\", accuracy)\n",
    "print(\"F1 Macro:\", f1_macro)\n",
    "print(\"F1 Weighted:\", f1_weighted)"
   ]
  },
  {
   "cell_type": "code",
   "execution_count": 54,
   "metadata": {},
   "outputs": [
    {
     "name": "stdout",
     "output_type": "stream",
     "text": [
      "Accuracy: 0.8913983661701105\n",
      "F1 Macro: 0.8996600916429158\n",
      "F1 Weighted: 0.9008138498314465\n"
     ]
    }
   ],
   "source": [
    "# Evaluate the model's performance using a more comprehensive metric\n",
    "accuracy = accuracy_score(y_test, y_pred)\n",
    "f1_macro = f1_score(y_test, y_pred_tfidf, average='macro')\n",
    "f1_weighted = f1_score(y_test, y_pred_tfidf, average='weighted')\n",
    "\n",
    "print(\"Accuracy:\", accuracy)\n",
    "print(\"F1 Macro:\", f1_macro)\n",
    "print(\"F1 Weighted:\", f1_weighted)"
   ]
  },
  {
   "cell_type": "code",
   "execution_count": 55,
   "metadata": {},
   "outputs": [
    {
     "data": {
      "text/plain": [
       "Text(113.9222222222222, 0.5, 'predicted label')"
      ]
     },
     "execution_count": 55,
     "metadata": {},
     "output_type": "execute_result"
    },
    {
     "data": {
      "image/png": "[encoded data removed]",
      "text/plain": [
       "<Figure size 640x480 with 1 Axes>"
      ]
     },
     "metadata": {},
     "output_type": "display_data"
    }
   ],
   "source": [
    "mat = confusion_matrix(y_test, y_pred)\n",
    "sns.heatmap(mat.T, square=True, annot=True, fmt='d', cbar=False)\n",
    "plt.xlabel('true label')\n",
    "plt.ylabel('predicted label')"
   ]
  },
  {
   "cell_type": "code",
   "execution_count": 56,
   "metadata": {},
   "outputs": [
    {
     "data": {
      "text/plain": [
       "Text(113.9222222222222, 0.5, 'predicted label')"
      ]
     },
     "execution_count": 56,
     "metadata": {},
     "output_type": "execute_result"
    },
    {
     "data": {
      "image/png": "[encoded data removed]",
      "text/plain": [
       "<Figure size 640x480 with 1 Axes>"
      ]
     },
     "metadata": {},
     "output_type": "display_data"
    }
   ],
   "source": [
    "mat = confusion_matrix(y_test, y_pred_tfidf)\n",
    "sns.heatmap(mat.T, square=True, annot=True, fmt='d', cbar=False)\n",
    "plt.xlabel('true label')\n",
    "plt.ylabel('predicted label')"
   ]
  },
  {
   "cell_type": "markdown",
   "metadata": {},
   "source": [
    "#### Actual vs Predicted"
   ]
  },
  {
   "cell_type": "code",
   "execution_count": 57,
   "metadata": {},
   "outputs": [
    {
     "name": "stdout",
     "output_type": "stream",
     "text": [
      "Actual vs Predicted Labels with Tweet Text:\n",
      "Tweet: ['technology', 'hard', 'find', 'shit', 'online', 'amazon', 'want', 'buy', 'shit', 'refuse', 'buy', 'amazon', 'made', 'coffee', 'mishap', 'cause', 'need', 'new', 'kettle', 'could', 'go', 'irl', 'store', 'fronts', 'urggg', 'problem', 'really', 'think', 'avoiding', 'amazon', 'hard']\n",
      "Actual Label: Negative\n",
      "Predicted Label: Negative\n",
      "-----------------------\n",
      "Tweet: ['eadice', 'happy', 'back', 'life']\n",
      "Actual Label: Neutral\n",
      "Predicted Label: Positive\n",
      "-----------------------\n",
      "Tweet: ['cyberpunkgame', 'im', 'gon', 'na', 'heated', 'hacker', 'death', 'grips', 'isnt', 'soundtrack', 'slaps', 'perfect']\n",
      "Actual Label: Neutral\n",
      "Predicted Label: Neutral\n",
      "-----------------------\n",
      "Tweet: ['get', 'phone', 'rhandlerr', 'cant', 'get', 'phone', 'rhandlerr', 'kidding', 'pictwittercomakemuwzq']\n",
      "Actual Label: Positive\n",
      "Predicted Label: Negative\n",
      "-----------------------\n",
      "Tweet: ['pubg', 'bigo', 'youtube', 'decide', 'list', 'richest', 'countries', 'largest', 'ecommerce', 'market', 'world']\n",
      "Actual Label: Irrelevant\n",
      "Predicted Label: Irrelevant\n",
      "-----------------------\n",
      "Tweet: ['git', 'gud', 'head', 'sniping', 'community', 'probably']\n",
      "Actual Label: Irrelevant\n",
      "Predicted Label: Irrelevant\n",
      "-----------------------\n",
      "Tweet: ['adult', 'still', 'enjoying', 'fortnite']\n",
      "Actual Label: Positive\n",
      "Predicted Label: Positive\n",
      "-----------------------\n",
      "Tweet: ['dont', 'mistake', 'niceness', 'sometimes', 'open', 'invitation', 'spam', 'dms', 'yesterday', 'ms', 'simpson', 'tagged', 'ad', 'finally', 'said', 'dont', 'dmed', 'fresh', 'series', 'ads', 'instead', 'blocked', 'hard', 'stay', 'good', 'side', 'want', 'shit', 'theres', 'amazon']\n",
      "Actual Label: Negative\n",
      "Predicted Label: Negative\n",
      "-----------------------\n",
      "Tweet: ['ghostrecon', 'plan', 'towards', 'address', 'crashing', 'default', 'model', 'rigging', 'problems', 'hotfix', 'wait', 'major', 'content', 'dump']\n",
      "Actual Label: Negative\n",
      "Predicted Label: Negative\n",
      "-----------------------\n",
      "Tweet: ['trying', 'get', 'diamond', 'heart', 'meting', 'toxic', 'cd', 'players', 'youtu', 'qlvomgniy']\n",
      "Actual Label: Neutral\n",
      "Predicted Label: Negative\n",
      "-----------------------\n"
     ]
    }
   ],
   "source": [
    "# Print some actual vs predicted labels along with tweet text\n",
    "print(\"Actual vs Predicted Labels with Tweet Text:\")\n",
    "for tweet, actual_label, predicted_label in zip(X_test[:10], y_test[:10], y_pred_tfidf[:10]):\n",
    "    print(\"Tweet:\", tweet)\n",
    "    print(\"Actual Label:\", actual_label)\n",
    "    print(\"Predicted Label:\", predicted_label)\n",
    "    print(\"-----------------------\")"
   ]
  },
  {
   "cell_type": "markdown",
   "metadata": {},
   "source": [
    "##### Save the Model"
   ]
  },
  {
   "cell_type": "code",
   "execution_count": 58,
   "metadata": {},
   "outputs": [
    {
     "data": {
      "text/plain": [
       "['rf_model.pkl']"
      ]
     },
     "execution_count": 58,
     "metadata": {},
     "output_type": "execute_result"
    }
   ],
   "source": [
    "# Save the trained model\n",
    "joblib.dump(model, 'rf_model.pkl')"
   ]
  },
  {
   "cell_type": "markdown",
   "metadata": {},
   "source": [
    "Predict Random Tweet By Model"
   ]
  },
  {
   "cell_type": "code",
   "execution_count": 83,
   "metadata": {},
   "outputs": [
    {
     "name": "stdout",
     "output_type": "stream",
     "text": [
      "Tweet: Just got promoted at work! Feeling on top of the world.\n",
      "Sentiment: Neutral\n",
      "Emoji: 😐\n",
      "\n",
      "Tweet: Had the best coffee today, can't stop thinking about it!\n",
      "Sentiment: Positive\n",
      "Emoji: 😄\n",
      "\n",
      "Tweet: Feeling so drained and overwhelmed right now.\n",
      "Sentiment: Irrelevant\n",
      "Emoji: 🤷‍♂️\n",
      "\n",
      "Tweet: The traffic today was horrendous, totally ruined my mood.\n",
      "Sentiment: Neutral\n",
      "Emoji: 😐\n",
      "\n",
      "Tweet: Planning my weekend, not sure what to do yet.\n",
      "Sentiment: Positive\n",
      "Emoji: 😄\n",
      "\n",
      "Tweet: Did you know that a group of flamingos is called a 'flamboyance'? Pretty cool!\n",
      "Sentiment: Positive\n",
      "Emoji: 😄\n",
      "\n",
      "Tweet: Spent a lovely afternoon in the park. Nature has such a calming effect love.\n",
      "Sentiment: Positive\n",
      "Emoji: 😄\n",
      "\n"
     ]
    }
   ],
   "source": [
    "# Load the saved model\n",
    "Tweet_Sentiment_Ai = joblib.load('rf_model.pkl')\n",
    "\n",
    "# Define a mapping between sentiment labels and emojis\n",
    "sentiment_emojis = {\n",
    "    'Positive': '😄',\n",
    "    'Negative': '😞',\n",
    "    'Neutral': '😐',\n",
    "    'Irrelevant': '🤷‍♂️'\n",
    "}\n",
    "\n",
    "# Example tweets\n",
    "example_tweets = [\n",
    "    \"Just got promoted at work! Feeling on top of the world.\",\n",
    "    \"Had the best coffee today, can't stop thinking about it!\",\n",
    "    \"Feeling so drained and overwhelmed right now.\",\n",
    "    \"The traffic today was horrendous, totally ruined my mood.\",\n",
    "    \"Planning my weekend, not sure what to do yet.\",\n",
    "    \"Did you know that a group of flamingos is called a 'flamboyance'? Pretty cool!\",\n",
    "    \"Spent a lovely afternoon in the park. Nature has such a calming effect love.\"\n",
    "]\n",
    "\n",
    "# Transform example tweets into TF-IDF features\n",
    "example_tweets_tfidf = vectorizer.transform(example_tweets)\n",
    "\n",
    "# Predict sentiment for example tweets\n",
    "predictions = Tweet_Sentiment_Ai.predict(example_tweets_tfidf)\n",
    "\n",
    "# Print the predicted sentiment and corresponding emoji for each example tweet\n",
    "for tweet, prediction in zip(example_tweets, predictions):\n",
    "    sentiment = prediction\n",
    "    emoji = sentiment_emojis.get(sentiment, '🤷')  # Get the emoji directly from the mapping without a default value\n",
    "    print(\"Tweet:\", tweet)\n",
    "    print(\"Sentiment:\", sentiment)\n",
    "    print(\"Emoji:\", emoji)\n",
    "    print()"
   ]
  }
 ],
 "metadata": {
  "kernelspec": {
   "display_name": "venv",
   "language": "python",
   "name": "python3"
  },
  "language_info": {
   "codemirror_mode": {
    "name": "ipython",
    "version": 3
   },
   "file_extension": ".py",
   "mimetype": "text/x-python",
   "name": "python",
   "nbconvert_exporter": "python",
   "pygments_lexer": "ipython3",
   "version": "3.12.5"
  }
 },
 "nbformat": 4,
 "nbformat_minor": 2
}
